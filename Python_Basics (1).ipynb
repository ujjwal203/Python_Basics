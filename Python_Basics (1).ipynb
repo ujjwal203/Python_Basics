{
  "nbformat": 4,
  "nbformat_minor": 0,
  "metadata": {
    "colab": {
      "provenance": [],
      "collapsed_sections": [
        "ZrCQrFFnMENd",
        "r-V72URtL1hY"
      ]
    },
    "kernelspec": {
      "name": "python3",
      "display_name": "Python 3"
    },
    "language_info": {
      "name": "python"
    }
  },
  "cells": [
    {
      "cell_type": "markdown",
      "source": [
        "# Python Basic Questions"
      ],
      "metadata": {
        "id": "ZrCQrFFnMENd"
      }
    },
    {
      "cell_type": "markdown",
      "source": [
        "1) **What is Python, and why is it popular?**\n",
        "- Python is a beginner-friendly programming language known for its simplicity & versatility across various domains.\n",
        "- Reasons why Python is popular :\n",
        "- a) Easy to learn and read : Its English-like syntax helps beginners learn programming quickly.\n",
        "- b) Versatile : Can be used across various domains like web development, data science & data analytics.\n",
        "- c) Rich Libraries & Frameworks : Tools like Django, Flask, NumPy and Pandas make development faster.\n",
        "\n",
        "---\n",
        "\n",
        "2) **What is an interpreter in Python?**\n",
        "- An interpreter is a program that reads and executes Python code line by line.\n",
        "\n",
        "---\n",
        "\n",
        "3) **What are pre-defined keywords in Python?**\n",
        "- Pre-defined keywords in Python are reserved words that have special meanings and are part of the Python language syntax.\n",
        "- Example : if, else, for, while, class, def, True, False, None, import, return, try, except.\n",
        "\n",
        "---\n",
        "\n",
        "4) **Can keywords be used as variable names?**\n",
        "- No, keywords cannot be used as variable names in Python because they are reserved words.\n",
        "\n",
        "---\n",
        "\n",
        "5) **What is mutability in Python?**\n",
        "- Mutability in Python refers to whether the value of an object can be changed after it is created or not. There are two types of objects mutable (can be modified) & immutable (cannot be modified).\n",
        "\n",
        "---\n",
        "\n",
        "6) **Why are lists mutable, but tuples are immutable?**\n",
        "-  Lists (mutable object) are meant to store a collection of items that can change over time.\n",
        "- Tuples (Immutable object) are meant to be fixed collections of items, often used when the data should not change.\n",
        "\n",
        "---\n",
        "\n",
        "7) **What is the difference between “==” and “is” operators in Python?**\n",
        "- Equality operator (==): Checks if two objects have the same value or not.\n",
        "- Identity operator (is): Checks if two variables point are to the same object in memory or not.\n",
        "\n",
        "---\n",
        "\n",
        "8) **What are logical operators in Python?**\n",
        "- Logical operators in Python are used to combine conditional statements and return a Boolean value (True or False).\n",
        "- Types of logical operators: \"and\", \"or\", & \"not\"\n",
        "\n",
        "---\n",
        "\n",
        "9) **What is type casting in Python?**\n",
        "- Type casting in Python is the process of converting a variable from one data type to another.\n",
        "\n",
        "---\n",
        "\n",
        "10) **What is the difference between implicit and explicit type casting?**\n",
        "- Implicit Type Casting : Conversion of data type done automatically by Python.\n",
        "- Example : To fetch answer for \"x = 5 + 2.5\" python will automatically convert \"int 5\" to float during compilation.\n",
        "\n",
        "- Explicit Type Casting : Conversion of data type done manually by the programmer. using functions like int(), float(), str(), etc.\n",
        "- Example : x = int(\"10\") will convert string \"10\" to integer 10.\n",
        "\n",
        "---\n",
        "\n",
        "11) **What is the purpose of conditional statements in Python?**\n",
        "- The purpose of conditional statements in Python is to make decisions in the code based on certain conditions. They allow the program to execute different blocks of code depending on a condition of \"True\" or \"False\".\n",
        "\n",
        "---\n",
        "\n",
        "12)  **How does the elif statement work?**\n",
        "- The elif (short for \"else if\") statement is used when you want to check multiple conditions in a program. It allows you to test another condition in-case the previous \"if\" condition was \"False\".\n",
        "\n",
        "---\n",
        "\n",
        "13) **What is the difference between for and while loops?**\n",
        "- For loop : Used when you know exactly how many times you want to repeat the code (iterate over a sequence or range).\n",
        "\n",
        "- While loop : Used when you want to repeat code until a condition becomes False.\n",
        "\n",
        "---\n",
        "\n",
        "14) **Describe a scenario where a while loop is more suitable than a for loop.**\n",
        "- A while loop is more suitable than a for loop in scenarios where the number of iterations is not known or predetermined before the loop begins.\n",
        "- Example:\n",
        "- 1) Suppose you are creating a program that asks the user to enter a password until they get it correct.You can’t predict how many attempts the user will take, so a while loop is ideal.\n",
        "- 2) Suppose you develop a game and allow users to play. You can’t predict for how long they will continue playing! So ideally, running a \"while loop\" instead of a \"for loop\" will ensure the game runs as long as the player does not choose to exit."
      ],
      "metadata": {
        "id": "PH3ItuvKsF14"
      }
    },
    {
      "cell_type": "markdown",
      "source": [
        "#Practical Questions"
      ],
      "metadata": {
        "id": "r-V72URtL1hY"
      }
    },
    {
      "cell_type": "code",
      "source": [
        "# Write a Python program to print \"Hello, World!\n",
        "print(\"Hello, World!\")"
      ],
      "metadata": {
        "id": "wRwRfMJzsMar",
        "colab": {
          "base_uri": "https://localhost:8080/"
        },
        "outputId": "4776ef5f-81ea-490c-e7d4-b78cef02412a"
      },
      "execution_count": 2,
      "outputs": [
        {
          "output_type": "stream",
          "name": "stdout",
          "text": [
            "Hello, World!\n"
          ]
        }
      ]
    },
    {
      "cell_type": "code",
      "source": [
        "# Write a Python program that displays your name and age\n",
        "name = \"Ujjwal Parida\"\n",
        "age = 20\n",
        "\n",
        "print(\"Name:\", name)\n",
        "print(\"Age:\", age)\n"
      ],
      "metadata": {
        "colab": {
          "base_uri": "https://localhost:8080/"
        },
        "id": "XLdX9puRObl2",
        "outputId": "ffa6aae9-856a-45f4-fdf9-2ae40a3a114c"
      },
      "execution_count": 3,
      "outputs": [
        {
          "output_type": "stream",
          "name": "stdout",
          "text": [
            "Name: Ujjwal Parida\n",
            "Age: 20\n"
          ]
        }
      ]
    },
    {
      "cell_type": "code",
      "source": [
        "# Write code to print all the pre-defined keywords in Python using the keyword library\n",
        "import keyword\n",
        "\n",
        "print(\"Python Keywords:\")\n",
        "print(keyword.kwlist)"
      ],
      "metadata": {
        "colab": {
          "base_uri": "https://localhost:8080/"
        },
        "id": "SO-ZIvsROmUl",
        "outputId": "34c9e50f-5837-48e9-c236-08be9c31efb7"
      },
      "execution_count": 4,
      "outputs": [
        {
          "output_type": "stream",
          "name": "stdout",
          "text": [
            "Python Keywords:\n",
            "['False', 'None', 'True', 'and', 'as', 'assert', 'async', 'await', 'break', 'class', 'continue', 'def', 'del', 'elif', 'else', 'except', 'finally', 'for', 'from', 'global', 'if', 'import', 'in', 'is', 'lambda', 'nonlocal', 'not', 'or', 'pass', 'raise', 'return', 'try', 'while', 'with', 'yield']\n"
          ]
        }
      ]
    },
    {
      "cell_type": "code",
      "source": [
        "# Write a program that checks if a given word is a Python keyword.\n",
        "import keyword\n",
        "\n",
        "word = input(\"Enter a word: \")\n",
        "\n",
        "if keyword.iskeyword(word):\n",
        "    print(f\"'{word}' is a Python keyword.\")\n",
        "else:\n",
        "    print(f\"'{word}' is NOT a Python keyword.\")"
      ],
      "metadata": {
        "colab": {
          "base_uri": "https://localhost:8080/"
        },
        "id": "4Ze2Qn7eO21o",
        "outputId": "3ca5b65a-b812-419b-e76b-c47f1593c71d"
      },
      "execution_count": 5,
      "outputs": [
        {
          "output_type": "stream",
          "name": "stdout",
          "text": [
            "Enter a word: if\n",
            "'if' is a Python keyword.\n"
          ]
        }
      ]
    },
    {
      "cell_type": "code",
      "source": [
        "# Create a list and tuple in Python, and demonstrate how attempting to change an element works differently for each.\n",
        "\n",
        "# Creating a list (mutable);\n",
        "mylist = [10, 20, 30]\n",
        "print(\"Before change list:\", mylist)\n",
        "\n",
        "# Changing an element\n",
        "mylist[0] = 90\n",
        "print(\"After change:\", mylist) # As list is a mutable object it is not showing any error.\n",
        "\n",
        "\n",
        "\n",
        "# Creating a tuple (immutable)\n",
        "mytuple = (10, 20, 30)\n",
        "print(\"Before change tuple:\", mytuple)\n",
        "\n",
        "# Changing an element\n",
        "mytuple[0] = 90\n",
        "print(\"After change:\", mytuple) # As tuple is a immutable object it shows any error.\n"
      ],
      "metadata": {
        "colab": {
          "base_uri": "https://localhost:8080/",
          "height": 253
        },
        "id": "CSB4lKx2POzj",
        "outputId": "245c46ce-9cea-4c23-decc-3eb8c6453b2d"
      },
      "execution_count": 7,
      "outputs": [
        {
          "output_type": "stream",
          "name": "stdout",
          "text": [
            "Before change list: [10, 20, 30]\n",
            "After change: [90, 20, 30]\n",
            "Before change tuple: (10, 20, 30)\n"
          ]
        },
        {
          "output_type": "error",
          "ename": "TypeError",
          "evalue": "'tuple' object does not support item assignment",
          "traceback": [
            "\u001b[0;31m---------------------------------------------------------------------------\u001b[0m",
            "\u001b[0;31mTypeError\u001b[0m                                 Traceback (most recent call last)",
            "\u001b[0;32m/tmp/ipython-input-3476827656.py\u001b[0m in \u001b[0;36m<cell line: 0>\u001b[0;34m()\u001b[0m\n\u001b[1;32m     14\u001b[0m \u001b[0;34m\u001b[0m\u001b[0m\n\u001b[1;32m     15\u001b[0m \u001b[0;31m# Changing an element\u001b[0m\u001b[0;34m\u001b[0m\u001b[0;34m\u001b[0m\u001b[0m\n\u001b[0;32m---> 16\u001b[0;31m \u001b[0mmytuple\u001b[0m\u001b[0;34m[\u001b[0m\u001b[0;36m0\u001b[0m\u001b[0;34m]\u001b[0m \u001b[0;34m=\u001b[0m \u001b[0;36m90\u001b[0m\u001b[0;34m\u001b[0m\u001b[0;34m\u001b[0m\u001b[0m\n\u001b[0m\u001b[1;32m     17\u001b[0m \u001b[0mprint\u001b[0m\u001b[0;34m(\u001b[0m\u001b[0;34m\"After change:\"\u001b[0m\u001b[0;34m,\u001b[0m \u001b[0mmytuple\u001b[0m\u001b[0;34m)\u001b[0m\u001b[0;34m\u001b[0m\u001b[0;34m\u001b[0m\u001b[0m\n",
            "\u001b[0;31mTypeError\u001b[0m: 'tuple' object does not support item assignment"
          ]
        }
      ]
    },
    {
      "cell_type": "code",
      "source": [
        "#Write a function to demonstrate the behavior of mutable and immutable arguments.\n",
        "\n",
        "def modify_data(num, my_list):\n",
        "    # Immutable example\n",
        "    num = num + 10  # This creates a new integer named \"num\" but doesn't change the original\n",
        "\n",
        "    # Mutable example\n",
        "    my_list.append(100)  # This modifies the original list\n",
        "\n",
        "    return num, my_list\n",
        "\n",
        "# Original data\n",
        "x = 4           # Immutable (int)\n",
        "y = [1, 2, 3]   # Mutable (list)\n",
        "\n",
        "print(\"Before function call:\")\n",
        "print(\"x:\", x)\n",
        "print(\"y:\", y)\n",
        "\n",
        "# Call the function\n",
        "new_num, new_list = modify_data(x, y)\n",
        "\n",
        "print(\"\\nAfter function call:\")\n",
        "print(\"x (immutable):\", x)        # Remains unchanged\n",
        "print(\"y (mutable):\", y)          # Gets modified\n"
      ],
      "metadata": {
        "colab": {
          "base_uri": "https://localhost:8080/"
        },
        "id": "q9ySv8urQgAO",
        "outputId": "f0c7d9eb-d8a3-4236-db85-838126b5be3b"
      },
      "execution_count": 18,
      "outputs": [
        {
          "output_type": "stream",
          "name": "stdout",
          "text": [
            "Before function call:\n",
            "x: 4\n",
            "y: [1, 2, 3]\n",
            "\n",
            "After function call:\n",
            "x (immutable): 4\n",
            "y (mutable): [1, 2, 3, 100]\n"
          ]
        }
      ]
    },
    {
      "cell_type": "code",
      "source": [
        "# Write a program that performs basic arithmetic operations on two user-input numbers\n",
        "\n",
        "# Taking user input\n",
        "num1 = float(input(\"Enter first number: \"))\n",
        "num2 = float(input(\"Enter second number: \"))\n",
        "\n",
        "# Performing operations\n",
        "print(\"\\nResults:\")\n",
        "print(f\"Addition : {num1} + {num2} = {num1+num2}\") #I was experimenting with f string :)\n",
        "print(\"Subtraction:\", num1 - num2)\n",
        "print(\"Multiplication:\", num1 * num2)\n",
        "\n",
        "if num2 != 0:\n",
        "    print(\"Division:\", num1 / num2)\n",
        "else:\n",
        "    print(\"Division: Cannot divide by zero\")"
      ],
      "metadata": {
        "colab": {
          "base_uri": "https://localhost:8080/"
        },
        "id": "WOT98C5vR4D-",
        "outputId": "7808db1f-6721-4f73-86e9-5ce441037966"
      },
      "execution_count": 25,
      "outputs": [
        {
          "output_type": "stream",
          "name": "stdout",
          "text": [
            "Enter first number: 5\n",
            "Enter second number: 6\n",
            "\n",
            "Results:\n",
            "Addition : 5.0 + 6.0 = 11.0\n",
            "Subtraction: -1.0\n",
            "Multiplication: 30.0\n",
            "Division: 0.8333333333333334\n"
          ]
        }
      ]
    },
    {
      "cell_type": "code",
      "source": [
        "# Write a program to demonstrate the use of logical operators.\n",
        "\n",
        "x = 10\n",
        "y = 5\n",
        "\n",
        "# \"and\" operator\n",
        "print(\"x > 5 and y < 10:\", x > 5 and y < 10)  # True and True = True\n",
        "\n",
        "# \"or\" operator\n",
        "print(\"x > 15 or y < 10:\", x > 15 or y < 10)  # False or True = True\n",
        "\n",
        "# \"not\" operator\n",
        "print(\"not(x > 5):\", not(x > 5))  # not(True) = False"
      ],
      "metadata": {
        "colab": {
          "base_uri": "https://localhost:8080/"
        },
        "id": "2Bycju8CUvZY",
        "outputId": "c4466721-981f-4d39-9922-16f96c56ae18"
      },
      "execution_count": 26,
      "outputs": [
        {
          "output_type": "stream",
          "name": "stdout",
          "text": [
            "x > 5 and y < 10: True\n",
            "x > 15 or y < 10: True\n",
            "not(x > 5): False\n"
          ]
        }
      ]
    },
    {
      "cell_type": "code",
      "source": [
        "# Write a Python program to convert user input from string to integer, float, and boolean types.\n",
        "\n",
        "x = input(\"Enter a value: \")\n",
        "\n",
        "# Converting to integer\n",
        "try:\n",
        "    int_value = int(x)\n",
        "    print(\"Integer value:\", int_value)\n",
        "except ValueError:                     # a character based string can't be converted to \"int\" thus i used except :)\n",
        "    print(\"Cannot convert to integer.\")\n",
        "\n",
        "# Converting to float\n",
        "try:\n",
        "    float_value = float(x)\n",
        "    print(\"Float value:\", float_value)\n",
        "except ValueError:                    # a character based string can't be converted to \"float\"\n",
        "    print(\"Cannot convert to float.\")\n",
        "\n",
        "# Converting to boolean\n",
        "bool_value = bool(x)\n",
        "print(\"Boolean value:\", bool_value)"
      ],
      "metadata": {
        "colab": {
          "base_uri": "https://localhost:8080/"
        },
        "id": "YPZ7YCAvWtXI",
        "outputId": "f4ecf274-0130-4043-b43c-b8683db3777f"
      },
      "execution_count": 31,
      "outputs": [
        {
          "output_type": "stream",
          "name": "stdout",
          "text": [
            "Enter a value: 7\n",
            "Integer value: 7\n",
            "Float value: 7.0\n",
            "Boolean value: True\n"
          ]
        }
      ]
    },
    {
      "cell_type": "code",
      "source": [
        "# Write code to demonstrate type casting with list elements.\n",
        "\n",
        "# Original list\n",
        "string_list = [\"10\", \"20\", \"30\", \"40\"]\n",
        "\n",
        "print(\"Original list (strings):\", string_list)\n",
        "\n",
        "# Converting string elements to integers\n",
        "int_list = [int(x) for x in string_list]\n",
        "print(\"List after converting to integers:\", int_list)\n",
        "\n",
        "# Converting integers to floats\n",
        "float_list = [float(x) for x in int_list]\n",
        "print(\"List after converting to floats:\", float_list)\n",
        "\n",
        "# Converting integers to strings again\n",
        "str_list = [str(x) for x in int_list]\n",
        "print(\"List after converting back to strings:\", str_list)\n"
      ],
      "metadata": {
        "colab": {
          "base_uri": "https://localhost:8080/"
        },
        "id": "to7_ZYkQXao8",
        "outputId": "b7fa88ae-5c1f-4fc5-f60f-9b9223a430c5"
      },
      "execution_count": 33,
      "outputs": [
        {
          "output_type": "stream",
          "name": "stdout",
          "text": [
            "Original list (strings): ['10', '20', '30', '40']\n",
            "List after converting to integers: [10, 20, 30, 40]\n",
            "List after converting to floats: [10.0, 20.0, 30.0, 40.0]\n",
            "List after converting back to strings: ['10', '20', '30', '40']\n"
          ]
        }
      ]
    },
    {
      "cell_type": "code",
      "source": [
        "# Write a program that checks if a number is positive, negative, or zero.\n",
        "\n",
        "num = float(input(\"Enter a number: \"))\n",
        "\n",
        "if num > 0:\n",
        "    print(\"The number is positive.\")\n",
        "elif num < 0:\n",
        "    print(\"The number is negative.\")\n",
        "else:\n",
        "    print(\"The number is zero.\")"
      ],
      "metadata": {
        "colab": {
          "base_uri": "https://localhost:8080/"
        },
        "id": "o8m5NZ_aZmGt",
        "outputId": "ac3d000c-7beb-4a66-8cdd-e35b89275e9b"
      },
      "execution_count": 35,
      "outputs": [
        {
          "output_type": "stream",
          "name": "stdout",
          "text": [
            "Enter a number: 100\n",
            "The number is positive.\n"
          ]
        }
      ]
    },
    {
      "cell_type": "code",
      "source": [
        " # Write a for loop to print numbers from 1 to 10.\n",
        "\n",
        " for i in range(1, 11):\n",
        "    print(i)"
      ],
      "metadata": {
        "colab": {
          "base_uri": "https://localhost:8080/"
        },
        "id": "qrWfO16LaJVU",
        "outputId": "40c743a1-6edd-4394-b2fa-3f3f3617f57b"
      },
      "execution_count": 36,
      "outputs": [
        {
          "output_type": "stream",
          "name": "stdout",
          "text": [
            "1\n",
            "2\n",
            "3\n",
            "4\n",
            "5\n",
            "6\n",
            "7\n",
            "8\n",
            "9\n",
            "10\n"
          ]
        }
      ]
    },
    {
      "cell_type": "code",
      "source": [
        "# Write a Python program to find the sum of all even numbers between 1 and 50.\n",
        "\n",
        "total = 0\n",
        "for num in range(1, 51):\n",
        "    if num % 2 == 0:\n",
        "        total += num\n",
        "\n",
        "print(\"Sum of even numbers between 1 and 50 is:\", total)\n"
      ],
      "metadata": {
        "colab": {
          "base_uri": "https://localhost:8080/"
        },
        "id": "joAnAiajafYZ",
        "outputId": "42b4f6e2-88ed-4a98-9946-fb37ae67d79a"
      },
      "execution_count": 37,
      "outputs": [
        {
          "output_type": "stream",
          "name": "stdout",
          "text": [
            "Sum of even numbers between 1 and 50 is: 650\n"
          ]
        }
      ]
    },
    {
      "cell_type": "code",
      "source": [
        "# Write a program to reverse a string using a while loop.\n",
        "\n",
        "text = input(\"Enter a string: \")\n",
        "\n",
        "# Initialize variables\n",
        "reversed_text = \"\"\n",
        "index = len(text) - 1\n",
        "\n",
        "# Reverse using while loop\n",
        "while index >= 0:\n",
        "    reversed_text += text[index]\n",
        "    index -= 1\n",
        "\n",
        "print(\"Reversed string:\", reversed_text)\n"
      ],
      "metadata": {
        "colab": {
          "base_uri": "https://localhost:8080/"
        },
        "id": "i6a14PkGkFIK",
        "outputId": "a81fc921-2f17-4794-f9a8-75d4616ce21b"
      },
      "execution_count": 40,
      "outputs": [
        {
          "output_type": "stream",
          "name": "stdout",
          "text": [
            "Enter a string: woww\n",
            "Reversed string: wwow\n"
          ]
        }
      ]
    },
    {
      "cell_type": "code",
      "source": [
        "# Write a Python program to calculate the factorial of a number provided by the user using a while loop.\n",
        "\n",
        "num = int(input(\"Enter a number: \"))\n",
        "\n",
        "# Factorial starts from 1\n",
        "factorial = 1\n",
        "i = 1\n",
        "\n",
        "if num < 0:\n",
        "    print(\"Factorial is not defined for negative numbers.\")\n",
        "else:\n",
        "    while i <= num:\n",
        "        factorial *= i\n",
        "        i += 1\n",
        "    print(f\"Factorial of {num} is: {factorial}\")"
      ],
      "metadata": {
        "colab": {
          "base_uri": "https://localhost:8080/"
        },
        "id": "wMxZYJhskJov",
        "outputId": "456742c5-4a5f-45e8-e3ee-71b54862b70b"
      },
      "execution_count": 42,
      "outputs": [
        {
          "output_type": "stream",
          "name": "stdout",
          "text": [
            "Enter a number: 7\n",
            "Factorial of 7 is: 5040\n"
          ]
        }
      ]
    }
  ]
}